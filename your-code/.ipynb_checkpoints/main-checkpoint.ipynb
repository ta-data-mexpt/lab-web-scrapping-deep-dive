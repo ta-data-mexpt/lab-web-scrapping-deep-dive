{
 "cells": [
  {
   "cell_type": "markdown",
   "metadata": {},
   "source": [
    "# Advanced Web Scraping Lab\n",
    "\n",
    "In this lab you will first learn the following code snippet which is a simple web spider class that allows you to scrape paginated webpages. Read the code, run it, and make sure you understand how it work. In the challenges of this lab, we will guide you in building up this class so that eventually you will have a more robus web spider that you can further work on in the Web Scraping Project."
   ]
  },
  {
   "cell_type": "code",
   "execution_count": 4,
   "metadata": {},
   "outputs": [
    {
     "name": "stdout",
     "output_type": "stream",
     "text": [
      "b'<!DOCTYPE html>\\n<html lang=\"en\">\\n<head>\\n\\t<meta charset=\"UTF-8\">\\n\\t<title>Quotes to Scrape</title>\\n    <link rel=\"stylesheet\" href=\"/static/bootstrap.min.css\">\\n    <link rel=\"stylesheet\" href=\"/static/main.css\">\\n</head>\\n<body>\\n    <div class=\"container\">\\n        <div class=\"row header-box\">\\n            <div class=\"col-md-8\">\\n                <h1>\\n                    <a href=\"/\" style=\"text-decoration: none\">Quotes to Scrape</a>\\n                </h1>\\n            </div>\\n            <div class=\"col-md-4\">\\n                <p>\\n                \\n                    <a href=\"/login\">Login</a>\\n                \\n                </p>\\n            </div>\\n        </div>\\n    \\n\\n<div class=\"row\">\\n    <div class=\"col-md-8\">\\n\\n    <div class=\"quote\" itemscope itemtype=\"http://schema.org/CreativeWork\">\\n        <span class=\"text\" itemprop=\"text\">\\xe2\\x80\\x9cThe world as we have created it is a process of our thinking. It cannot be changed without changing our thinking.\\xe2\\x80\\x9d</span>\\n        <span>by <small class=\"author\" itemprop=\"author\">Albert Einstein</small>\\n        <a href=\"/author/Albert-Einstein\">(about)</a>\\n        </span>\\n        <div class=\"tags\">\\n            Tags:\\n            <meta class=\"keywords\" itemprop=\"keywords\" content=\"change,deep-thoughts,thinking,world\" /    > \\n            \\n            <a class=\"tag\" href=\"/tag/change/page/1/\">change</a>\\n            \\n            <a class=\"tag\" href=\"/tag/deep-thoughts/page/1/\">deep-thoughts</a>\\n            \\n            <a class=\"tag\" href=\"/tag/thinking/page/1/\">thinking</a>\\n            \\n            <a class=\"tag\" href=\"/tag/world/page/1/\">world</a>\\n            \\n        </div>\\n    </div>\\n\\n    <div class=\"quote\" itemscope itemtype=\"http://schema.org/CreativeWork\">\\n        <span class=\"text\" itemprop=\"text\">\\xe2\\x80\\x9cIt is our choices, Harry, that show what we truly are, far more than our abilities.\\xe2\\x80\\x9d</span>\\n        <span>by <small class=\"author\" itemprop=\"author\">J.K. Rowling</small>\\n        <a href=\"/author/J-K-Rowling\">(about)</a>\\n        </span>\\n        <div class=\"tags\">\\n            Tags:\\n            <meta class=\"keywords\" itemprop=\"keywords\" content=\"abilities,choices\" /    > \\n            \\n            <a class=\"tag\" href=\"/tag/abilities/page/1/\">abilities</a>\\n            \\n            <a class=\"tag\" href=\"/tag/choices/page/1/\">choices</a>\\n            \\n        </div>\\n    </div>\\n\\n    <div class=\"quote\" itemscope itemtype=\"http://schema.org/CreativeWork\">\\n        <span class=\"text\" itemprop=\"text\">\\xe2\\x80\\x9cThere are only two ways to live your life. One is as though nothing is a miracle. The other is as though everything is a miracle.\\xe2\\x80\\x9d</span>\\n        <span>by <small class=\"author\" itemprop=\"author\">Albert Einstein</small>\\n        <a href=\"/author/Albert-Einstein\">(about)</a>\\n        </span>\\n        <div class=\"tags\">\\n            Tags:\\n            <meta class=\"keywords\" itemprop=\"keywords\" content=\"inspirational,life,live,miracle,miracles\" /    > \\n            \\n            <a class=\"tag\" href=\"/tag/inspirational/page/1/\">inspirational</a>\\n            \\n            <a class=\"tag\" href=\"/tag/life/page/1/\">life</a>\\n            \\n            <a class=\"tag\" href=\"/tag/live/page/1/\">live</a>\\n            \\n            <a class=\"tag\" href=\"/tag/miracle/page/1/\">miracle</a>\\n            \\n            <a class=\"tag\" href=\"/tag/miracles/page/1/\">miracles</a>\\n            \\n        </div>\\n    </div>\\n\\n    <div class=\"quote\" itemscope itemtype=\"http://schema.org/CreativeWork\">\\n        <span class=\"text\" itemprop=\"text\">\\xe2\\x80\\x9cThe person, be it gentleman or lady, who has not pleasure in a good novel, must be intolerably stupid.\\xe2\\x80\\x9d</span>\\n        <span>by <small class=\"author\" itemprop=\"author\">Jane Austen</small>\\n        <a href=\"/author/Jane-Austen\">(about)</a>\\n        </span>\\n        <div class=\"tags\">\\n            Tags:\\n            <meta class=\"keywords\" itemprop=\"keywords\" content=\"aliteracy,books,classic,humor\" /    > \\n            \\n            <a class=\"tag\" href=\"/tag/aliteracy/page/1/\">aliteracy</a>\\n            \\n            <a class=\"tag\" href=\"/tag/books/page/1/\">books</a>\\n            \\n            <a class=\"tag\" href=\"/tag/classic/page/1/\">classic</a>\\n            \\n            <a class=\"tag\" href=\"/tag/humor/page/1/\">humor</a>\\n            \\n        </div>\\n    </div>\\n\\n    <div class=\"quote\" itemscope itemtype=\"http://schema.org/CreativeWork\">\\n        <span class=\"text\" itemprop=\"text\">\\xe2\\x80\\x9cImperfection is beauty, madness is genius and it&#39;s better to be absolutely ridiculous than absolutely boring.\\xe2\\x80\\x9d</span>\\n        <span>by <small class=\"author\" itemprop=\"author\">Marilyn Monroe</small>\\n        <a href=\"/author/Marilyn-Monroe\">(about)</a>\\n        </span>\\n        <div class=\"tags\">\\n            Tags:\\n            <meta class=\"keywords\" itemprop=\"keywords\" content=\"be-yourself,inspirational\" /    > \\n            \\n            <a class=\"tag\" href=\"/tag/be-yourself/page/1/\">be-yourself</a>\\n            \\n            <a class=\"tag\" href=\"/tag/inspirational/page/1/\">inspirational</a>\\n            \\n        </div>\\n    </div>\\n\\n    <div class=\"quote\" itemscope itemtype=\"http://schema.org/CreativeWork\">\\n        <span class=\"text\" itemprop=\"text\">\\xe2\\x80\\x9cTry not to become a man of success. Rather become a man of value.\\xe2\\x80\\x9d</span>\\n        <span>by <small class=\"author\" itemprop=\"author\">Albert Einstein</small>\\n        <a href=\"/author/Albert-Einstein\">(about)</a>\\n        </span>\\n        <div class=\"tags\">\\n            Tags:\\n            <meta class=\"keywords\" itemprop=\"keywords\" content=\"adulthood,success,value\" /    > \\n            \\n            <a class=\"tag\" href=\"/tag/adulthood/page/1/\">adulthood</a>\\n            \\n            <a class=\"tag\" href=\"/tag/success/page/1/\">success</a>\\n            \\n            <a class=\"tag\" href=\"/tag/value/page/1/\">value</a>\\n            \\n        </div>\\n    </div>\\n\\n    <div class=\"quote\" itemscope itemtype=\"http://schema.org/CreativeWork\">\\n        <span class=\"text\" itemprop=\"text\">\\xe2\\x80\\x9cIt is better to be hated for what you are than to be loved for what you are not.\\xe2\\x80\\x9d</span>\\n        <span>by <small class=\"author\" itemprop=\"author\">Andr\\xc3\\xa9 Gide</small>\\n        <a href=\"/author/Andre-Gide\">(about)</a>\\n        </span>\\n        <div class=\"tags\">\\n            Tags:\\n            <meta class=\"keywords\" itemprop=\"keywords\" content=\"life,love\" /    > \\n            \\n            <a class=\"tag\" href=\"/tag/life/page/1/\">life</a>\\n            \\n            <a class=\"tag\" href=\"/tag/love/page/1/\">love</a>\\n            \\n        </div>\\n    </div>\\n\\n    <div class=\"quote\" itemscope itemtype=\"http://schema.org/CreativeWork\">\\n        <span class=\"text\" itemprop=\"text\">\\xe2\\x80\\x9cI have not failed. I&#39;ve just found 10,000 ways that won&#39;t work.\\xe2\\x80\\x9d</span>\\n        <span>by <small class=\"author\" itemprop=\"author\">Thomas A. Edison</small>\\n        <a href=\"/author/Thomas-A-Edison\">(about)</a>\\n        </span>\\n        <div class=\"tags\">\\n            Tags:\\n            <meta class=\"keywords\" itemprop=\"keywords\" content=\"edison,failure,inspirational,paraphrased\" /    > \\n            \\n            <a class=\"tag\" href=\"/tag/edison/page/1/\">edison</a>\\n            \\n            <a class=\"tag\" href=\"/tag/failure/page/1/\">failure</a>\\n            \\n            <a class=\"tag\" href=\"/tag/inspirational/page/1/\">inspirational</a>\\n            \\n            <a class=\"tag\" href=\"/tag/paraphrased/page/1/\">paraphrased</a>\\n            \\n        </div>\\n    </div>\\n\\n    <div class=\"quote\" itemscope itemtype=\"http://schema.org/CreativeWork\">\\n        <span class=\"text\" itemprop=\"text\">\\xe2\\x80\\x9cA woman is like a tea bag; you never know how strong it is until it&#39;s in hot water.\\xe2\\x80\\x9d</span>\\n        <span>by <small class=\"author\" itemprop=\"author\">Eleanor Roosevelt</small>\\n        <a href=\"/author/Eleanor-Roosevelt\">(about)</a>\\n        </span>\\n        <div class=\"tags\">\\n            Tags:\\n            <meta class=\"keywords\" itemprop=\"keywords\" content=\"misattributed-eleanor-roosevelt\" /    > \\n            \\n            <a class=\"tag\" href=\"/tag/misattributed-eleanor-roosevelt/page/1/\">misattributed-eleanor-roosevelt</a>\\n            \\n        </div>\\n    </div>\\n\\n    <div class=\"quote\" itemscope itemtype=\"http://schema.org/CreativeWork\">\\n        <span class=\"text\" itemprop=\"text\">\\xe2\\x80\\x9cA day without sunshine is like, you know, night.\\xe2\\x80\\x9d</span>\\n        <span>by <small class=\"author\" itemprop=\"author\">Steve Martin</small>\\n        <a href=\"/author/Steve-Martin\">(about)</a>\\n        </span>\\n        <div class=\"tags\">\\n            Tags:\\n            <meta class=\"keywords\" itemprop=\"keywords\" content=\"humor,obvious,simile\" /    > \\n            \\n            <a class=\"tag\" href=\"/tag/humor/page/1/\">humor</a>\\n            \\n            <a class=\"tag\" href=\"/tag/obvious/page/1/\">obvious</a>\\n            \\n            <a class=\"tag\" href=\"/tag/simile/page/1/\">simile</a>\\n            \\n        </div>\\n    </div>\\n\\n    <nav>\\n        <ul class=\"pager\">\\n            \\n            \\n            <li class=\"next\">\\n                <a href=\"/page/2/\">Next <span aria-hidden=\"true\">&rarr;</span></a>\\n            </li>\\n            \\n        </ul>\\n    </nav>\\n    </div>\\n    <div class=\"col-md-4 tags-box\">\\n        \\n            <h2>Top Ten tags</h2>\\n            \\n            <span class=\"tag-item\">\\n            <a class=\"tag\" style=\"font-size: 28px\" href=\"/tag/love/\">love</a>\\n            </span>\\n            \\n            <span class=\"tag-item\">\\n            <a class=\"tag\" style=\"font-size: 26px\" href=\"/tag/inspirational/\">inspirational</a>\\n            </span>\\n            \\n            <span class=\"tag-item\">\\n            <a class=\"tag\" style=\"font-size: 26px\" href=\"/tag/life/\">life</a>\\n            </span>\\n            \\n            <span class=\"tag-item\">\\n            <a class=\"tag\" style=\"font-size: 24px\" href=\"/tag/humor/\">humor</a>\\n            </span>\\n            \\n            <span class=\"tag-item\">\\n            <a class=\"tag\" style=\"font-size: 22px\" href=\"/tag/books/\">books</a>\\n            </span>\\n            \\n            <span class=\"tag-item\">\\n            <a class=\"tag\" style=\"font-size: 14px\" href=\"/tag/reading/\">reading</a>\\n            </span>\\n            \\n            <span class=\"tag-item\">\\n            <a class=\"tag\" style=\"font-size: 10px\" href=\"/tag/friendship/\">friendship</a>\\n            </span>\\n            \\n            <span class=\"tag-item\">\\n            <a class=\"tag\" style=\"font-size: 8px\" href=\"/tag/friends/\">friends</a>\\n            </span>\\n            \\n            <span class=\"tag-item\">\\n            <a class=\"tag\" style=\"font-size: 8px\" href=\"/tag/truth/\">truth</a>\\n            </span>\\n            \\n            <span class=\"tag-item\">\\n            <a class=\"tag\" style=\"font-size: 6px\" href=\"/tag/simile/\">simile</a>\\n            </span>\\n            \\n        \\n    </div>\\n</div>\\n\\n    </div>\\n    <footer class=\"footer\">\\n        <div class=\"container\">\\n            <p class=\"text-muted\">\\n                Quotes by: <a href=\"https://www.goodreads.com/quotes\">GoodReads.com</a>\\n            </p>\\n            <p class=\"copyright\">\\n                Made with <span class=\\'sh-red\\'>\\xe2\\x9d\\xa4</span> by <a href=\"https://scrapinghub.com\">Scrapinghub</a>\\n            </p>\\n        </div>\\n    </footer>\\n</body>\\n</html>'\n"
     ]
    }
   ],
   "source": [
    "import requests\n",
    "from bs4 import BeautifulSoup\n",
    "\n",
    "class IronhackSpider:\n",
    "    \"\"\"\n",
    "    This is the constructor class to which you can pass a bunch of parameters. \n",
    "    These parameters are stored to the class instance variables so that the\n",
    "    class functions can access them later.\n",
    "    \n",
    "    url_pattern: the regex pattern of the web urls to scape\n",
    "    pages_to_scrape: how many pages to scrape\n",
    "    sleep_interval: the time interval in seconds to delay between requests. If <0, requests will not be delayed.\n",
    "    content_parser: a function reference that will extract the intended info from the scraped content.\n",
    "    \"\"\"\n",
    "    def __init__(self, url_pattern, pages_to_scrape=10, sleep_interval=-1, content_parser=None):\n",
    "        self.url_pattern = url_pattern\n",
    "        self.pages_to_scrape = pages_to_scrape\n",
    "        self.sleep_interval = sleep_interval\n",
    "        self.content_parser = content_parser\n",
    "    \n",
    "    \"\"\"\n",
    "    Scrape the content of a single url.\n",
    "    \"\"\"\n",
    "    def scrape_url(self, url):\n",
    "        response = requests.get(url)\n",
    "        result = self.content_parser(response.content)\n",
    "        self.output_results(result)\n",
    "    \n",
    "    \"\"\"\n",
    "    Export the scraped content. Right now it simply print out the results.\n",
    "    But in the future you can export the results into a text file or database.\n",
    "    \"\"\"\n",
    "    def output_results(self, r):\n",
    "        print(r)\n",
    "    \n",
    "    \"\"\"\n",
    "    After the class is instantiated, call this function to start the scraping jobs.\n",
    "    This function uses a FOR loop to call `scrape_url()` for each url to scrape.\n",
    "    \"\"\"\n",
    "    def kickstart(self):\n",
    "        for i in range(1, self.pages_to_scrape+1):\n",
    "            self.scrape_url(self.url_pattern % i)\n",
    "\n",
    "\n",
    "URL_PATTERN = 'http://quotes.toscrape.com/page/%s/' # regex pattern for the urls to scrape\n",
    "PAGES_TO_SCRAPE = 1 # how many webpages to scrapge\n",
    "\n",
    "\"\"\"\n",
    "This is a custom parser function you will complete in the challenge.\n",
    "Right now it simply returns the string passed to it. But in this lab\n",
    "you will complete this function so that it extracts the quotes.\n",
    "This function will be passed to the IronhackSpider class.\n",
    "\"\"\"\n",
    "def quotes_parser(content):\n",
    "    return content\n",
    "\n",
    "# Instantiate the IronhackSpider class\n",
    "my_spider = IronhackSpider(URL_PATTERN, PAGES_TO_SCRAPE, content_parser=quotes_parser)\n",
    "\n",
    "# Start scraping jobs\n",
    "my_spider.kickstart()"
   ]
  },
  {
   "cell_type": "markdown",
   "metadata": {},
   "source": [
    "## Challenge 1 - Custom Parser Function\n",
    "\n",
    "In this challenge, complete the custom `quotes_parser()` function so that the returned result contains the quote string instead of the whole html page content.\n",
    "\n",
    "In the cell below, write your updated `quotes_parser()` function and kickstart the spider. Make sure the results being printed contain a list of quote strings extracted from the html content."
   ]
  },
  {
   "cell_type": "code",
   "execution_count": 9,
   "metadata": {},
   "outputs": [
    {
     "name": "stdout",
     "output_type": "stream",
     "text": [
      "[('“The world as we have created it is a process of our thinking. It cannot be changed without changing our thinking.”', 'Albert Einstein'), ('“It is our choices, Harry, that show what we truly are, far more than our abilities.”', 'J.K. Rowling'), ('“There are only two ways to live your life. One is as though nothing is a miracle. The other is as though everything is a miracle.”', 'Albert Einstein'), ('“The person, be it gentleman or lady, who has not pleasure in a good novel, must be intolerably stupid.”', 'Jane Austen'), (\"“Imperfection is beauty, madness is genius and it's better to be absolutely ridiculous than absolutely boring.”\", 'Marilyn Monroe'), ('“Try not to become a man of success. Rather become a man of value.”', 'Albert Einstein'), ('“It is better to be hated for what you are than to be loved for what you are not.”', 'André Gide'), (\"“I have not failed. I've just found 10,000 ways that won't work.”\", 'Thomas A. Edison'), (\"“A woman is like a tea bag; you never know how strong it is until it's in hot water.”\", 'Eleanor Roosevelt'), ('“A day without sunshine is like, you know, night.”', 'Steve Martin')]\n"
     ]
    }
   ],
   "source": [
    "# your code here\n",
    "\n",
    "def quotes_parser(content):\n",
    "    content_soup = BeautifulSoup(content, \"lxml\")\n",
    "    quote_elements = content_soup.find_all(\"div\", class_=\"quote\")\n",
    "    content = [(quote_element.find(\"span\", class_= \"text\").text, quote_element.find(\"small\", class_= \"author\").text) for quote_element in quote_elements]\n",
    "    return content\n",
    "               \n",
    "# Instantiate the IronhackSpider class\n",
    "my_spider = IronhackSpider(URL_PATTERN, PAGES_TO_SCRAPE, content_parser=quotes_parser)\n",
    "\n",
    "# Start scraping jobs\n",
    "my_spider.kickstart()"
   ]
  },
  {
   "cell_type": "markdown",
   "metadata": {},
   "source": [
    "## Challenge 2 - Error Handling\n",
    "\n",
    "In `IronhackSpider.scrape_url()`, catch any error that might occur when you make requests to scrape the webpage. This includes checking the response status code and catching http request errors such as timeout, SSL, and too many redirects.\n",
    "\n",
    "In the cell below, place your entire code including the updated `IronhackSpdier` class and the code to kickstart the spider."
   ]
  },
  {
   "cell_type": "code",
   "execution_count": 16,
   "metadata": {},
   "outputs": [
    {
     "name": "stdout",
     "output_type": "stream",
     "text": [
      "Response status is 404. There was a problem\n"
     ]
    }
   ],
   "source": [
    "# your code here\n",
    "\n",
    "import requests\n",
    "from bs4 import BeautifulSoup\n",
    "\n",
    "class IronhackSpider:\n",
    "    def __init__(self, url_pattern, pages_to_scrape=10, sleep_interval=-1, content_parser=None):\n",
    "        self.url_pattern = url_pattern\n",
    "        self.pages_to_scrape = pages_to_scrape\n",
    "        self.sleep_interval = sleep_interval\n",
    "        self.content_parser = content_parser\n",
    "  \n",
    "    def scrape_url(self, url):\n",
    "        response = requests.get(url)\n",
    "        if response.status_code > 299:\n",
    "            result = f\"Response status is {response.status_code}. There was a problem\"\n",
    "        else:\n",
    "            result = self.content_parser(response.content)\n",
    "        self.output_results(result)\n",
    "    \n",
    "    def output_results(self, r):\n",
    "        print(r)\n",
    " \n",
    "    def kickstart(self):\n",
    "        for i in range(1, self.pages_to_scrape+1):\n",
    "            self.scrape_url(self.url_pattern % i)\n",
    "\n",
    "\n",
    "URL_PATTERN = 'http://quotes.toscrape.com/page/%s/' # regex pattern for the urls to scrape\n",
    "PAGES_TO_SCRAPE = 1 # how many webpages to scrapge\n",
    "\n",
    "\n",
    "def quotes_parser(content):\n",
    "    content_soup = BeautifulSoup(content, \"lxml\")\n",
    "    quote_elements = content_soup.find_all(\"div\", class_=\"quote\")\n",
    "    content = [(quote_element.find(\"span\", class_= \"text\").text, quote_element.find(\"small\", class_= \"author\").text) for quote_element in quote_elements]\n",
    "    return content\n",
    "               \n",
    "# Instantiate the IronhackSpider class\n",
    "my_spider = IronhackSpider(URL_PATTERN, PAGES_TO_SCRAPE, content_parser=quotes_parser)\n",
    "\n",
    "# Start scraping jobs\n",
    "my_spider.kickstart()"
   ]
  },
  {
   "cell_type": "markdown",
   "metadata": {},
   "source": [
    "# Challenge 3 - Sleep Interval\n",
    "\n",
    "In `IronhackSpider.kickstart()`, implement `sleep_interval`. You will check if `self.sleep_interval` is larger than 0. If so, tell the FOR loop to sleep the given amount of time before making the next request.\n",
    "\n",
    "In the cell below, place your entire code including the updated `IronhackSpdier` class and the code to kickstart the spider."
   ]
  },
  {
   "cell_type": "code",
   "execution_count": 23,
   "metadata": {},
   "outputs": [
    {
     "name": "stdout",
     "output_type": "stream",
     "text": [
      "sleep time is 1\n",
      "[('“The world as we have created it is a process of our thinking. It cannot be changed without changing our thinking.”', 'Albert Einstein'), ('“It is our choices, Harry, that show what we truly are, far more than our abilities.”', 'J.K. Rowling'), ('“There are only two ways to live your life. One is as though nothing is a miracle. The other is as though everything is a miracle.”', 'Albert Einstein'), ('“The person, be it gentleman or lady, who has not pleasure in a good novel, must be intolerably stupid.”', 'Jane Austen'), (\"“Imperfection is beauty, madness is genius and it's better to be absolutely ridiculous than absolutely boring.”\", 'Marilyn Monroe'), ('“Try not to become a man of success. Rather become a man of value.”', 'Albert Einstein'), ('“It is better to be hated for what you are than to be loved for what you are not.”', 'André Gide'), (\"“I have not failed. I've just found 10,000 ways that won't work.”\", 'Thomas A. Edison'), (\"“A woman is like a tea bag; you never know how strong it is until it's in hot water.”\", 'Eleanor Roosevelt'), ('“A day without sunshine is like, you know, night.”', 'Steve Martin')]\n"
     ]
    }
   ],
   "source": [
    "# your code here\n",
    "\n",
    "import requests\n",
    "from bs4 import BeautifulSoup\n",
    "import time\n",
    "\n",
    "class IronhackSpider:\n",
    "    def __init__(self, url_pattern, pages_to_scrape=10, sleep_interval=-1, content_parser=None):\n",
    "        self.url_pattern = url_pattern\n",
    "        self.pages_to_scrape = pages_to_scrape\n",
    "        self.sleep_interval = sleep_interval\n",
    "        self.content_parser = content_parser\n",
    "  \n",
    "    def scrape_url(self, url):\n",
    "        response = requests.get(url)\n",
    "        if response.status_code > 299:\n",
    "            result = f\"Response status is {response.status_code}. There was a problem\"\n",
    "        else:\n",
    "            result = self.content_parser(response.content)\n",
    "        self.output_results(result)\n",
    "    \n",
    "    def output_results(self, r):\n",
    "        print(r)\n",
    " \n",
    "    def kickstart(self):\n",
    "        for i in range(1, self.pages_to_scrape+1):\n",
    "            if self.sleep_interval > 0:\n",
    "                time.sleep(self.sleep_interval)\n",
    "                print(f\"sleep time is {self.sleep_interval}\")\n",
    "                self.scrape_url(self.url_pattern % i)\n",
    "            else:\n",
    "                self.scrape_url(self.url_pattern % i)\n",
    "\n",
    "\n",
    "URL_PATTERN = 'http://quotes.toscrape.com/page/%s/' # regex pattern for the urls to scrape\n",
    "PAGES_TO_SCRAPE = 1 # how many webpages to scrapge\n",
    "\n",
    "\n",
    "def quotes_parser(content):\n",
    "    content_soup = BeautifulSoup(content, \"lxml\")\n",
    "    quote_elements = content_soup.find_all(\"div\", class_=\"quote\")\n",
    "    content = [(quote_element.find(\"span\", class_= \"text\").text, quote_element.find(\"small\", class_= \"author\").text) for quote_element in quote_elements]\n",
    "    return content\n",
    "               \n",
    "# Instantiate the IronhackSpider class\n",
    "my_spider = IronhackSpider(URL_PATTERN, PAGES_TO_SCRAPE, sleep_interval = 1, content_parser=quotes_parser)\n",
    "\n",
    "# Start scraping jobs\n",
    "my_spider.kickstart()"
   ]
  },
  {
   "cell_type": "markdown",
   "metadata": {},
   "source": [
    "# Challenge 4 - Test Batch Scraping\n",
    "\n",
    "Change the `PAGES_TO_SCRAPE` value from `1` to `10`. Try if your code still works as intended to scrape 10 webpages. If there are errors in your code, fix them.\n",
    "\n",
    "In the cell below, place your entire code including the updated `IronhackSpdier` class and the code to kickstart the spider."
   ]
  },
  {
   "cell_type": "code",
   "execution_count": 29,
   "metadata": {},
   "outputs": [
    {
     "name": "stdout",
     "output_type": "stream",
     "text": [
      "[(None, 'Albert Einstein'), (None, 'J.K. Rowling'), (None, 'Albert Einstein'), (None, 'Jane Austen'), (None, 'Marilyn Monroe'), (None, 'Albert Einstein'), (None, 'André Gide'), (None, 'Thomas A. Edison'), (None, 'Eleanor Roosevelt'), (None, 'Steve Martin')]\n",
      "[(None, 'Marilyn Monroe'), (None, 'J.K. Rowling'), (None, 'Albert Einstein'), (None, 'Bob Marley'), (None, 'Dr. Seuss'), (None, 'Douglas Adams'), (None, 'Elie Wiesel'), (None, 'Friedrich Nietzsche'), (None, 'Mark Twain'), (None, 'Allen Saunders')]\n",
      "[(None, 'Pablo Neruda'), (None, 'Ralph Waldo Emerson'), (None, 'Mother Teresa'), (None, 'Garrison Keillor'), (None, 'Jim Henson'), (None, 'Dr. Seuss'), (None, 'Albert Einstein'), (None, 'J.K. Rowling'), (None, 'Albert Einstein'), (None, 'Bob Marley')]\n",
      "[(None, 'Dr. Seuss'), (None, 'J.K. Rowling'), (None, 'Bob Marley'), (None, 'Mother Teresa'), (None, 'J.K. Rowling'), (None, 'Charles M. Schulz'), (None, 'William Nicholson'), (None, 'Albert Einstein'), (None, 'Jorge Luis Borges'), (None, 'George Eliot')]\n",
      "[(None, 'George R.R. Martin'), (None, 'C.S. Lewis'), (None, 'Marilyn Monroe'), (None, 'Marilyn Monroe'), (None, 'Albert Einstein'), (None, 'Marilyn Monroe'), (None, 'Marilyn Monroe'), (None, 'Martin Luther King Jr.'), (None, 'J.K. Rowling'), (None, 'James Baldwin')]\n",
      "[(None, 'Jane Austen'), (None, 'Eleanor Roosevelt'), (None, 'Marilyn Monroe'), (None, 'Albert Einstein'), (None, 'Haruki Murakami'), (None, 'Alexandre Dumas fils'), (None, 'Stephenie Meyer'), (None, 'Ernest Hemingway'), (None, 'Helen Keller'), (None, 'George Bernard Shaw')]\n",
      "[(None, 'Charles Bukowski'), (None, 'Suzanne Collins'), (None, 'Suzanne Collins'), (None, 'C.S. Lewis'), (None, 'J.R.R. Tolkien'), (None, 'J.K. Rowling'), (None, 'Ernest Hemingway'), (None, 'Ralph Waldo Emerson'), (None, 'Mark Twain'), (None, 'Dr. Seuss')]\n",
      "[(None, 'Alfred Tennyson'), (None, 'Charles Bukowski'), (None, 'Terry Pratchett'), (None, 'Dr. Seuss'), (None, 'J.D. Salinger'), (None, 'George Carlin'), (None, 'John Lennon'), (None, 'W.C. Fields'), (None, 'Ayn Rand'), (None, 'Mark Twain')]\n",
      "[(None, 'Albert Einstein'), (None, 'Jane Austen'), (None, 'J.K. Rowling'), (None, 'Jane Austen'), (None, 'Jane Austen'), (None, 'C.S. Lewis'), (None, 'C.S. Lewis'), (None, 'Mark Twain'), (None, 'Mark Twain'), (None, 'C.S. Lewis')]\n",
      "[(None, 'J.K. Rowling'), (None, 'Jimi Hendrix'), (None, 'J.M. Barrie'), (None, 'E.E. Cummings'), (None, 'Khaled Hosseini'), (None, 'Harper Lee'), (None, \"Madeleine L'Engle\"), (None, 'Mark Twain'), (None, 'Dr. Seuss'), (None, 'George R.R. Martin')]\n"
     ]
    }
   ],
   "source": [
    "# your code here\n",
    "\n",
    "import requests\n",
    "from bs4 import BeautifulSoup\n",
    "import time\n",
    "\n",
    "class IronhackSpider:\n",
    "    def __init__(self, url_pattern, pages_to_scrape=10, sleep_interval=-1, content_parser=None):\n",
    "        self.url_pattern = url_pattern\n",
    "        self.pages_to_scrape = pages_to_scrape\n",
    "        self.sleep_interval = sleep_interval\n",
    "        self.content_parser = content_parser\n",
    "  \n",
    "    def scrape_url(self, url):\n",
    "        response = requests.get(url)\n",
    "        if response.status_code > 299:\n",
    "            result = f\"Response status is {response.status_code}. There was a problem\"\n",
    "        else:\n",
    "            result = self.content_parser(response.content)\n",
    "        self.output_results(result)\n",
    "    \n",
    "    def output_results(self, r):\n",
    "        print(r)\n",
    " \n",
    "    def kickstart(self):\n",
    "        for i in range(1, self.pages_to_scrape+1):\n",
    "            if self.sleep_interval > 0:\n",
    "                time.sleep(self.sleep_interval)\n",
    "                print(f\"sleep time is {self.sleep_interval}\")\n",
    "                self.scrape_url(self.url_pattern % i)\n",
    "            else:\n",
    "                self.scrape_url(self.url_pattern % i)\n",
    "\n",
    "\n",
    "URL_PATTERN = 'http://quotes.toscrape.com/page/%s/' # regex pattern for the urls to scrape\n",
    "PAGES_TO_SCRAPE = 10 # how many webpages to scrapge\n",
    "\n",
    "\n",
    "def quotes_parser(content):\n",
    "    content_soup = BeautifulSoup(content, \"lxml\")\n",
    "    quote_elements = content_soup.find_all(\"div\", class_=\"quote\")\n",
    "    content = [(quote_element.find(\"span\", class_= \"text\").text, quote_element.find(\"small\", class_= \"author\").text) for quote_element in quote_elements]\n",
    "    return content\n",
    "               \n",
    "# Instantiate the IronhackSpider class\n",
    "my_spider = IronhackSpider(URL_PATTERN, PAGES_TO_SCRAPE, sleep_interval = 0, content_parser=quotes_parser)\n",
    "\n",
    "# Start scraping jobs\n",
    "my_spider.kickstart()"
   ]
  },
  {
   "cell_type": "markdown",
   "metadata": {},
   "source": [
    "# Challenge 5 - Scrape a Different Website\n",
    "\n",
    "Update the parameters passed to the `IronhackSpider` constructor so that you coder can crawl [books.toscrape.com](http://books.toscrape.com/). You will need to use a different `URL_PATTERN` (figure out the new url pattern by yourself) and write another parser function to be passed to `IronhackSpider`. \n",
    "\n",
    "In the cell below, place your entire code including the updated `IronhackSpdier` class and the code to kickstart the spider."
   ]
  },
  {
   "cell_type": "code",
   "execution_count": 35,
   "metadata": {},
   "outputs": [
    {
     "name": "stdout",
     "output_type": "stream",
     "text": [
      "[('A Light in the Attic', '£51.77', 'In stock'), ('Tipping the Velvet', '£53.74', 'In stock'), ('Soumission', '£50.10', 'In stock'), ('Sharp Objects', '£47.82', 'In stock'), ('Sapiens: A Brief History of Humankind', '£54.23', 'In stock'), ('The Requiem Red', '£22.65', 'In stock'), ('The Dirty Little Secrets of Getting Your Dream Job', '£33.34', 'In stock'), ('The Coming Woman: A Novel Based on the Life of the Infamous Feminist, Victoria Woodhull', '£17.93', 'In stock'), ('The Boys in the Boat: Nine Americans and Their Epic Quest for Gold at the 1936 Berlin Olympics', '£22.60', 'In stock'), ('The Black Maria', '£52.15', 'In stock'), ('Starving Hearts (Triangular Trade Trilogy, #1)', '£13.99', 'In stock'), (\"Shakespeare's Sonnets\", '£20.66', 'In stock'), ('Set Me Free', '£17.46', 'In stock'), (\"Scott Pilgrim's Precious Little Life (Scott Pilgrim #1)\", '£52.29', 'In stock'), ('Rip it Up and Start Again', '£35.02', 'In stock'), ('Our Band Could Be Your Life: Scenes from the American Indie Underground, 1981-1991', '£57.25', 'In stock'), ('Olio', '£23.88', 'In stock'), ('Mesaerion: The Best Science Fiction Stories 1800-1849', '£37.59', 'In stock'), ('Libertarianism for Beginners', '£51.33', 'In stock'), (\"It's Only the Himalayas\", '£45.17', 'In stock')]\n",
      "[('In Her Wake', '£12.84', 'In stock'), ('How Music Works', '£37.32', 'In stock'), ('Foolproof Preserving: A Guide to Small Batch Jams, Jellies, Pickles, Condiments, and More: A Foolproof Guide to Making Small Batch Jams, Jellies, Pickles, Condiments, and More', '£30.52', 'In stock'), ('Chase Me (Paris Nights #2)', '£25.27', 'In stock'), ('Black Dust', '£34.53', 'In stock'), ('Birdsong: A Story in Pictures', '£54.64', 'In stock'), (\"America's Cradle of Quarterbacks: Western Pennsylvania's Football Factory from Johnny Unitas to Joe Montana\", '£22.50', 'In stock'), ('Aladdin and His Wonderful Lamp', '£53.13', 'In stock'), ('Worlds Elsewhere: Journeys Around Shakespeare’s Globe', '£40.30', 'In stock'), ('Wall and Piece', '£44.18', 'In stock'), ('The Four Agreements: A Practical Guide to Personal Freedom', '£17.66', 'In stock'), ('The Five Love Languages: How to Express Heartfelt Commitment to Your Mate', '£31.05', 'In stock'), ('The Elephant Tree', '£23.82', 'In stock'), ('The Bear and the Piano', '£36.89', 'In stock'), (\"Sophie's World\", '£15.94', 'In stock'), ('Penny Maybe', '£33.29', 'In stock'), ('Maude (1883-1993):She Grew Up with the country', '£18.02', 'In stock'), ('In a Dark, Dark Wood', '£19.63', 'In stock'), ('Behind Closed Doors', '£52.22', 'In stock'), (\"You can't bury them all: Poems\", '£33.63', 'In stock')]\n",
      "[('Slow States of Collapse: Poems', '£57.31', 'In stock'), ('Reasons to Stay Alive', '£26.41', 'In stock'), ('Private Paris (Private #10)', '£47.61', 'In stock'), ('#HigherSelfie: Wake Up Your Life. Free Your Soul. Find Your Tribe.', '£23.11', 'In stock'), ('Without Borders (Wanderlove #1)', '£45.07', 'In stock'), ('When We Collided', '£31.77', 'In stock'), ('We Love You, Charlie Freeman', '£50.27', 'In stock'), ('Untitled Collection: Sabbath Poems 2014', '£14.27', 'In stock'), ('Unseen City: The Majesty of Pigeons, the Discreet Charm of Snails & Other Wonders of the Urban Wilderness', '£44.18', 'In stock'), ('Unicorn Tracks', '£18.78', 'In stock'), ('Unbound: How Eight Technologies Made Us Human, Transformed Society, and Brought Our World to the Brink', '£25.52', 'In stock'), ('Tsubasa: WoRLD CHRoNiCLE 2 (Tsubasa WoRLD CHRoNiCLE #2)', '£16.28', 'In stock'), ('Throwing Rocks at the Google Bus: How Growth Became the Enemy of Prosperity', '£31.12', 'In stock'), ('This One Summer', '£19.49', 'In stock'), ('Thirst', '£17.27', 'In stock'), ('The Torch Is Passed: A Harding Family Story', '£19.09', 'In stock'), ('The Secret of Dreadwillow Carse', '£56.13', 'In stock'), ('The Pioneer Woman Cooks: Dinnertime: Comfort Classics, Freezer Food, 16-Minute Meals, and Other Delicious Ways to Solve Supper!', '£56.41', 'In stock'), ('The Past Never Ends', '£56.50', 'In stock'), ('The Natural History of Us (The Fine Art of Pretending #2)', '£45.22', 'In stock')]\n",
      "[('The Nameless City (The Nameless City #1)', '£38.16', 'In stock'), ('The Murder That Never Was (Forensic Instincts #5)', '£54.11', 'In stock'), (\"The Most Perfect Thing: Inside (and Outside) a Bird's Egg\", '£42.96', 'In stock'), ('The Mindfulness and Acceptance Workbook for Anxiety: A Guide to Breaking Free from Anxiety, Phobias, and Worry Using Acceptance and Commitment Therapy', '£23.89', 'In stock'), ('The Life-Changing Magic of Tidying Up: The Japanese Art of Decluttering and Organizing', '£16.77', 'In stock'), ('The Inefficiency Assassin: Time Management Tactics for Working Smarter, Not Longer', '£20.59', 'In stock'), ('The Gutsy Girl: Escapades for Your Life of Epic Adventure', '£37.13', 'In stock'), ('The Electric Pencil: Drawings from Inside State Hospital No. 3', '£56.06', 'In stock'), ('The Death of Humanity: and the Case for Life', '£58.11', 'In stock'), ('The Bulletproof Diet: Lose up to a Pound a Day, Reclaim Energy and Focus, Upgrade Your Life', '£49.05', 'In stock'), ('The Art Forger', '£40.76', 'In stock'), ('The Age of Genius: The Seventeenth Century and the Birth of the Modern Mind', '£19.73', 'In stock'), (\"The Activist's Tao Te Ching: Ancient Advice for a Modern Revolution\", '£32.24', 'In stock'), ('Spark Joy: An Illustrated Master Class on the Art of Organizing and Tidying Up', '£41.83', 'In stock'), ('Soul Reader', '£39.58', 'In stock'), ('Security', '£39.25', 'In stock'), ('Saga, Volume 6 (Saga (Collected Editions) #6)', '£25.02', 'In stock'), ('Saga, Volume 5 (Saga (Collected Editions) #5)', '£51.04', 'In stock'), ('Reskilling America: Learning to Labor in the Twenty-First Century', '£19.83', 'In stock'), ('Rat Queens, Vol. 3: Demons (Rat Queens (Collected Editions) #11-15)', '£50.40', 'In stock')]\n",
      "[('Princess Jellyfish 2-in-1 Omnibus, Vol. 01 (Princess Jellyfish 2-in-1 Omnibus #1)', '£13.61', 'In stock'), ('Princess Between Worlds (Wide-Awake Princess #5)', '£13.34', 'In stock'), ('Pop Gun War, Volume 1: Gift', '£18.97', 'In stock'), ('Political Suicide: Missteps, Peccadilloes, Bad Calls, Backroom Hijinx, Sordid Pasts, Rotten Breaks, and Just Plain Dumb Mistakes in the Annals of American Politics', '£36.28', 'In stock'), ('Patience', '£10.16', 'In stock'), ('Outcast, Vol. 1: A Darkness Surrounds Him (Outcast #1)', '£15.44', 'In stock'), ('orange: The Complete Collection 1 (orange: The Complete Collection #1)', '£48.41', 'In stock'), ('Online Marketing for Busy Authors: A Step-By-Step Guide', '£46.35', 'In stock'), ('On a Midnight Clear', '£14.07', 'In stock'), ('Obsidian (Lux #1)', '£14.86', 'In stock'), ('My Paris Kitchen: Recipes and Stories', '£33.37', 'In stock'), ('Masks and Shadows', '£56.40', 'In stock'), ('Mama Tried: Traditional Italian Cooking for the Screwed, Crude, Vegan, and Tattooed', '£14.02', 'In stock'), ('Lumberjanes, Vol. 2: Friendship to the Max (Lumberjanes #5-8)', '£46.91', 'In stock'), ('Lumberjanes, Vol. 1: Beware the Kitten Holy (Lumberjanes #1-4)', '£45.61', 'In stock'), ('Lumberjanes Vol. 3: A Terrible Plan (Lumberjanes #9-12)', '£19.92', 'In stock'), ('Layered: Baking, Building, and Styling Spectacular Cakes', '£40.11', 'In stock'), ('Judo: Seven Steps to Black Belt (an Introductory Guide for Beginners)', '£53.90', 'In stock'), ('Join', '£35.67', 'In stock'), ('In the Country We Love: My Family Divided', '£22.00', 'In stock')]\n",
      "[('Immunity: How Elie Metchnikoff Changed the Course of Modern Medicine', '£57.36', 'In stock'), ('I Hate Fairyland, Vol. 1: Madly Ever After (I Hate Fairyland (Compilations) #1-5)', '£29.17', 'In stock'), ('I am a Hero Omnibus Volume 1', '£54.63', 'In stock'), ('How to Be Miserable: 40 Strategies You Already Use', '£46.03', 'In stock'), ('Her Backup Boyfriend (The Sorensen Family #1)', '£33.97', 'In stock'), ('Giant Days, Vol. 2 (Giant Days #5-8)', '£22.11', 'In stock'), ('Forever and Forever: The Courtship of Henry Longfellow and Fanny Appleton', '£29.69', 'In stock'), ('First and First (Five Boroughs #3)', '£15.97', 'In stock'), ('Fifty Shades Darker (Fifty Shades #2)', '£21.96', 'In stock'), ('Everydata: The Misinformation Hidden in the Little Data You Consume Every Day', '£54.35', 'In stock'), (\"Don't Be a Jerk: And Other Practical Advice from Dogen, Japan's Greatest Zen Master\", '£37.97', 'In stock'), ('Danganronpa Volume 1', '£51.99', 'In stock'), ('Crown of Midnight (Throne of Glass #2)', '£43.29', 'In stock'), ('Codename Baboushka, Volume 1: The Conclave of Death', '£36.72', 'In stock'), ('Camp Midnight', '£17.08', 'In stock'), ('Call the Nurse: True Stories of a Country Nurse on a Scottish Isle', '£29.14', 'In stock'), ('Burning', '£28.81', 'In stock'), ('Bossypants', '£49.46', 'In stock'), ('Bitch Planet, Vol. 1: Extraordinary Machine (Bitch Planet (Collected Editions))', '£37.92', 'In stock'), ('Avatar: The Last Airbender: Smoke and Shadow, Part 3 (Smoke and Shadow #3)', '£28.09', 'In stock')]\n"
     ]
    },
    {
     "name": "stdout",
     "output_type": "stream",
     "text": [
      "[('Algorithms to Live By: The Computer Science of Human Decisions', '£30.81', 'In stock'), ('A World of Flavor: Your Gluten Free Passport', '£42.95', 'In stock'), ('A Piece of Sky, a Grain of Rice: A Memoir in Four Meditations', '£56.76', 'In stock'), ('A Murder in Time', '£16.64', 'In stock'), ('A Flight of Arrows (The Pathfinders #2)', '£55.53', 'In stock'), ('A Fierce and Subtle Poison', '£28.13', 'In stock'), ('A Court of Thorns and Roses (A Court of Thorns and Roses #1)', '£52.37', 'In stock'), ('(Un)Qualified: How God Uses Broken People to Do Big Things', '£54.00', 'In stock'), ('You Are What You Love: The Spiritual Power of Habit', '£21.87', 'In stock'), (\"William Shakespeare's Star Wars: Verily, A New Hope (William Shakespeare's Star Wars #4)\", '£43.30', 'In stock'), ('Tuesday Nights in 1980', '£21.04', 'In stock'), ('Tracing Numbers on a Train', '£41.60', 'In stock'), ('Throne of Glass (Throne of Glass #1)', '£35.07', 'In stock'), ('Thomas Jefferson and the Tripoli Pirates: The Forgotten War That Changed American History', '£59.64', 'In stock'), ('Thirteen Reasons Why', '£52.72', 'In stock'), ('The White Cat and the Monk: A Retelling of the Poem “Pangur Bán”', '£58.08', 'In stock'), ('The Wedding Dress', '£24.12', 'In stock'), ('The Vacationers', '£42.15', 'In stock'), ('The Third Wave: An Entrepreneur’s Vision of the Future', '£12.61', 'In stock'), ('The Stranger', '£17.44', 'In stock')]\n",
      "[('The Shadow Hero (The Shadow Hero)', '£33.14', 'In stock'), ('The Secret (The Secret #1)', '£27.37', 'In stock'), ('The Regional Office Is Under Attack!', '£51.36', 'In stock'), ('The Psychopath Test: A Journey Through the Madness Industry', '£36.00', 'In stock'), ('The Project', '£10.65', 'In stock'), ('The Power of Now: A Guide to Spiritual Enlightenment', '£43.54', 'In stock'), (\"The Omnivore's Dilemma: A Natural History of Four Meals\", '£38.21', 'In stock'), ('The Nerdy Nummies Cookbook: Sweet Treats for the Geek in All of Us', '£37.34', 'In stock'), ('The Murder of Roger Ackroyd (Hercule Poirot #4)', '£44.10', 'In stock'), ('The Mistake (Off-Campus #2)', '£43.29', 'In stock'), (\"The Matchmaker's Playbook (Wingmen Inc. #1)\", '£55.85', 'In stock'), ('The Love and Lemons Cookbook: An Apple-to-Zucchini Celebration of Impromptu Cooking', '£37.60', 'In stock'), ('The Long Shadow of Small Ghosts: Murder and Memory in an American City', '£10.97', 'In stock'), ('The Kite Runner', '£41.82', 'In stock'), ('The House by the Lake', '£36.95', 'In stock'), ('The Glittering Court (The Glittering Court #1)', '£44.28', 'In stock'), ('The Girl on the Train', '£55.02', 'In stock'), ('The Genius of Birds', '£17.24', 'In stock'), ('The Emerald Mystery', '£23.15', 'In stock'), ('The Cookies & Cups Cookbook: 125+ sweet & savory recipes reminding you to Always Eat Dessert First', '£41.25', 'In stock')]\n",
      "[(\"The Bridge to Consciousness: I'm Writing the Bridge Between Science and Our Old and New Beliefs.\", '£32.00', 'In stock'), (\"The Artist's Way: A Spiritual Path to Higher Creativity\", '£38.49', 'In stock'), ('The Art of War', '£33.34', 'In stock'), ('The Argonauts', '£10.93', 'In stock'), ('The 10% Entrepreneur: Live Your Startup Dream Without Quitting Your Day Job', '£27.55', 'In stock'), ('Suddenly in Love (Lake Haven #1)', '£55.99', 'In stock'), ('Something More Than This', '£16.24', 'In stock'), ('Soft Apocalypse', '£26.12', 'In stock'), (\"So You've Been Publicly Shamed\", '£12.23', 'In stock'), ('Shoe Dog: A Memoir by the Creator of NIKE', '£23.99', 'In stock'), ('Shobu Samurai, Project Aryoku (#3)', '£29.06', 'In stock'), ('Secrets and Lace (Fatal Hearts #1)', '£20.27', 'In stock'), ('Scarlett Epstein Hates It Here', '£43.55', 'In stock'), ('Romero and Juliet: A Tragic Tale of Love and Zombies', '£36.94', 'In stock'), ('Redeeming Love', '£20.47', 'In stock'), ('Poses for Artists Volume 1 - Dynamic and Sitting Poses: An Essential Reference for Figure Drawing and the Human Form', '£41.06', 'In stock'), ('Poems That Make Grown Women Cry', '£14.19', 'In stock'), ('Nightingale, Sing', '£38.28', 'In stock'), ('Night Sky with Exit Wounds', '£41.05', 'In stock'), ('Mrs. Houdini', '£30.25', 'In stock')]\n",
      "[('Modern Romance', '£28.26', 'In stock'), ('Miss Peregrine’s Home for Peculiar Children (Miss Peregrine’s Peculiar Children #1)', '£10.76', 'In stock'), ('Louisa: The Extraordinary Life of Mrs. Adams', '£16.85', 'In stock'), ('Little Red', '£13.47', 'In stock'), ('Library of Souls (Miss Peregrine’s Peculiar Children #3)', '£48.56', 'In stock'), ('Large Print Heart of the Pride', '£19.15', 'In stock'), ('I Had a Nice Time And Other Lies...: How to find love & sh*t like that', '£57.36', 'In stock'), ('Hollow City (Miss Peregrine’s Peculiar Children #2)', '£42.98', 'In stock'), ('Grumbles', '£22.16', 'In stock'), ('Full Moon over Noah’s Ark: An Odyssey to Mount Ararat and Beyond', '£49.43', 'In stock'), ('Frostbite (Vampire Academy #2)', '£29.99', 'In stock'), ('Follow You Home', '£21.36', 'In stock'), ('First Steps for New Christians (Print Edition)', '£29.00', 'In stock'), ('Finders Keepers (Bill Hodges Trilogy #2)', '£53.53', 'In stock'), ('Fables, Vol. 1: Legends in Exile (Fables #1)', '£41.62', 'In stock'), ('Eureka Trivia 6.0', '£54.59', 'In stock'), ('Drive: The Surprising Truth About What Motivates Us', '£34.95', 'In stock'), ('Done Rubbed Out (Reightman & Bailey #1)', '£37.72', 'In stock'), ('Doing It Over (Most Likely To #1)', '£35.61', 'In stock'), ('Deliciously Ella Every Day: Quick and Easy Recipes for Gluten-Free Snacks, Packed Lunches, and Simple Meals', '£42.16', 'In stock')]\n"
     ]
    }
   ],
   "source": [
    "# your code here\n",
    "\n",
    "import requests\n",
    "from bs4 import BeautifulSoup\n",
    "import time\n",
    "\n",
    "class IronhackSpider:\n",
    "    def __init__(self, url_pattern, pages_to_scrape=10, sleep_interval=-1, content_parser=None):\n",
    "        self.url_pattern = url_pattern\n",
    "        self.pages_to_scrape = pages_to_scrape\n",
    "        self.sleep_interval = sleep_interval\n",
    "        self.content_parser = content_parser\n",
    "  \n",
    "    def scrape_url(self, url):\n",
    "        response = requests.get(url)\n",
    "        if response.status_code > 299:\n",
    "            result = f\"Response status is {response.status_code}. There was a problem\"\n",
    "        else:\n",
    "            result = self.content_parser(response.content)\n",
    "        self.output_results(result)\n",
    "    \n",
    "    def output_results(self, r):\n",
    "        print(r)\n",
    " \n",
    "    def kickstart(self):\n",
    "        for i in range(1, self.pages_to_scrape+1):\n",
    "            if self.sleep_interval > 0:\n",
    "                time.sleep(self.sleep_interval)\n",
    "                print(f\"sleep time is {self.sleep_interval}\")\n",
    "                self.scrape_url(self.url_pattern % i)\n",
    "            else:\n",
    "                self.scrape_url(self.url_pattern % i)\n",
    "\n",
    "\n",
    "URL_PATTERN = 'http://books.toscrape.com/catalogue/page-%s.html' # regex pattern for the urls to scrape\n",
    "PAGES_TO_SCRAPE = 10 # how many webpages to scrapge\n",
    "\n",
    "\n",
    "def books_parser(content):\n",
    "    content_soup = BeautifulSoup(content, \"lxml\")\n",
    "    book_elements = content_soup.find_all(\"article\", class_=\"product_pod\")\n",
    "    content = []\n",
    "    for book_element in book_elements:\n",
    "        title_element = book_element.find(\"h3\")\n",
    "        title = title_element.find(\"a\")[\"title\"]\n",
    "        price = book_element.find(\"p\", class_= \"price_color\").text.strip()\n",
    "        availability = book_element.find(\"p\", class_= \"instock availability\").text.strip()\n",
    "        book = (title, price, availability)\n",
    "        content.append(book) \n",
    "    return content\n",
    "               \n",
    "# Instantiate the IronhackSpider class\n",
    "my_spider = IronhackSpider(URL_PATTERN, PAGES_TO_SCRAPE, sleep_interval = 0, content_parser=books_parser)\n",
    "\n",
    "# Start scraping jobs\n",
    "my_spider.kickstart()"
   ]
  },
  {
   "cell_type": "markdown",
   "metadata": {},
   "source": [
    "# Bonus Challenge 1 - Making Your Spider Unblockable\n",
    "\n",
    "Use techniques such as randomizing user agents and referers in your requests to reduce the likelihood that your spider is blocked by websites. [Here](http://blog.adnansiddiqi.me/5-strategies-to-write-unblock-able-web-scrapers-in-python/) is a great article to learn these techniques.\n",
    "\n",
    "In the cell below, place your entire code including the updated `IronhackSpdier` class and the code to kickstart the spider."
   ]
  },
  {
   "cell_type": "code",
   "execution_count": 42,
   "metadata": {},
   "outputs": [
    {
     "name": "stdout",
     "output_type": "stream",
     "text": [
      "sleep time is 2\n",
      "{'user-agent': 'Mozilla/5.0 (Windows NT 10.0; Win64; x64) AppleWebKit/537.36 (KHTML, like Gecko) Chrome/100.0.4896.127 Safari/537.36', 'referer': 'http://books.toscrape.com'}\n",
      "[('A Light in the Attic', '£51.77', 'In stock'), ('Tipping the Velvet', '£53.74', 'In stock'), ('Soumission', '£50.10', 'In stock'), ('Sharp Objects', '£47.82', 'In stock'), ('Sapiens: A Brief History of Humankind', '£54.23', 'In stock'), ('The Requiem Red', '£22.65', 'In stock'), ('The Dirty Little Secrets of Getting Your Dream Job', '£33.34', 'In stock'), ('The Coming Woman: A Novel Based on the Life of the Infamous Feminist, Victoria Woodhull', '£17.93', 'In stock'), ('The Boys in the Boat: Nine Americans and Their Epic Quest for Gold at the 1936 Berlin Olympics', '£22.60', 'In stock'), ('The Black Maria', '£52.15', 'In stock'), ('Starving Hearts (Triangular Trade Trilogy, #1)', '£13.99', 'In stock'), (\"Shakespeare's Sonnets\", '£20.66', 'In stock'), ('Set Me Free', '£17.46', 'In stock'), (\"Scott Pilgrim's Precious Little Life (Scott Pilgrim #1)\", '£52.29', 'In stock'), ('Rip it Up and Start Again', '£35.02', 'In stock'), ('Our Band Could Be Your Life: Scenes from the American Indie Underground, 1981-1991', '£57.25', 'In stock'), ('Olio', '£23.88', 'In stock'), ('Mesaerion: The Best Science Fiction Stories 1800-1849', '£37.59', 'In stock'), ('Libertarianism for Beginners', '£51.33', 'In stock'), (\"It's Only the Himalayas\", '£45.17', 'In stock')]\n",
      "sleep time is 2\n",
      "{'user-agent': 'Mozilla/5.0 (Windows NT 10.0; Win64; x64) AppleWebKit/537.36 (KHTML, like Gecko) Chrome/101.0.4951.67 Safari/537.36', 'referer': 'http://books.toscrape.com'}\n",
      "[('In Her Wake', '£12.84', 'In stock'), ('How Music Works', '£37.32', 'In stock'), ('Foolproof Preserving: A Guide to Small Batch Jams, Jellies, Pickles, Condiments, and More: A Foolproof Guide to Making Small Batch Jams, Jellies, Pickles, Condiments, and More', '£30.52', 'In stock'), ('Chase Me (Paris Nights #2)', '£25.27', 'In stock'), ('Black Dust', '£34.53', 'In stock'), ('Birdsong: A Story in Pictures', '£54.64', 'In stock'), (\"America's Cradle of Quarterbacks: Western Pennsylvania's Football Factory from Johnny Unitas to Joe Montana\", '£22.50', 'In stock'), ('Aladdin and His Wonderful Lamp', '£53.13', 'In stock'), ('Worlds Elsewhere: Journeys Around Shakespeare’s Globe', '£40.30', 'In stock'), ('Wall and Piece', '£44.18', 'In stock'), ('The Four Agreements: A Practical Guide to Personal Freedom', '£17.66', 'In stock'), ('The Five Love Languages: How to Express Heartfelt Commitment to Your Mate', '£31.05', 'In stock'), ('The Elephant Tree', '£23.82', 'In stock'), ('The Bear and the Piano', '£36.89', 'In stock'), (\"Sophie's World\", '£15.94', 'In stock'), ('Penny Maybe', '£33.29', 'In stock'), ('Maude (1883-1993):She Grew Up with the country', '£18.02', 'In stock'), ('In a Dark, Dark Wood', '£19.63', 'In stock'), ('Behind Closed Doors', '£52.22', 'In stock'), (\"You can't bury them all: Poems\", '£33.63', 'In stock')]\n",
      "sleep time is 2\n",
      "{'user-agent': 'Mozilla/5.0 (Windows NT 10.0; Win64; x64) AppleWebKit/537.36 (KHTML, like Gecko) Chrome/101.0.4951.54 Safari/537.36', 'referer': 'http://books.toscrape.com'}\n",
      "[('Slow States of Collapse: Poems', '£57.31', 'In stock'), ('Reasons to Stay Alive', '£26.41', 'In stock'), ('Private Paris (Private #10)', '£47.61', 'In stock'), ('#HigherSelfie: Wake Up Your Life. Free Your Soul. Find Your Tribe.', '£23.11', 'In stock'), ('Without Borders (Wanderlove #1)', '£45.07', 'In stock'), ('When We Collided', '£31.77', 'In stock'), ('We Love You, Charlie Freeman', '£50.27', 'In stock'), ('Untitled Collection: Sabbath Poems 2014', '£14.27', 'In stock'), ('Unseen City: The Majesty of Pigeons, the Discreet Charm of Snails & Other Wonders of the Urban Wilderness', '£44.18', 'In stock'), ('Unicorn Tracks', '£18.78', 'In stock'), ('Unbound: How Eight Technologies Made Us Human, Transformed Society, and Brought Our World to the Brink', '£25.52', 'In stock'), ('Tsubasa: WoRLD CHRoNiCLE 2 (Tsubasa WoRLD CHRoNiCLE #2)', '£16.28', 'In stock'), ('Throwing Rocks at the Google Bus: How Growth Became the Enemy of Prosperity', '£31.12', 'In stock'), ('This One Summer', '£19.49', 'In stock'), ('Thirst', '£17.27', 'In stock'), ('The Torch Is Passed: A Harding Family Story', '£19.09', 'In stock'), ('The Secret of Dreadwillow Carse', '£56.13', 'In stock'), ('The Pioneer Woman Cooks: Dinnertime: Comfort Classics, Freezer Food, 16-Minute Meals, and Other Delicious Ways to Solve Supper!', '£56.41', 'In stock'), ('The Past Never Ends', '£56.50', 'In stock'), ('The Natural History of Us (The Fine Art of Pretending #2)', '£45.22', 'In stock')]\n",
      "sleep time is 2\n",
      "{'user-agent': 'Mozilla/5.0 (Windows NT 10.0; Win64; x64) AppleWebKit/537.36 (KHTML, like Gecko) Chrome/101.0.4951.67 Safari/537.36', 'referer': 'http://books.toscrape.com'}\n",
      "[('The Nameless City (The Nameless City #1)', '£38.16', 'In stock'), ('The Murder That Never Was (Forensic Instincts #5)', '£54.11', 'In stock'), (\"The Most Perfect Thing: Inside (and Outside) a Bird's Egg\", '£42.96', 'In stock'), ('The Mindfulness and Acceptance Workbook for Anxiety: A Guide to Breaking Free from Anxiety, Phobias, and Worry Using Acceptance and Commitment Therapy', '£23.89', 'In stock'), ('The Life-Changing Magic of Tidying Up: The Japanese Art of Decluttering and Organizing', '£16.77', 'In stock'), ('The Inefficiency Assassin: Time Management Tactics for Working Smarter, Not Longer', '£20.59', 'In stock'), ('The Gutsy Girl: Escapades for Your Life of Epic Adventure', '£37.13', 'In stock'), ('The Electric Pencil: Drawings from Inside State Hospital No. 3', '£56.06', 'In stock'), ('The Death of Humanity: and the Case for Life', '£58.11', 'In stock'), ('The Bulletproof Diet: Lose up to a Pound a Day, Reclaim Energy and Focus, Upgrade Your Life', '£49.05', 'In stock'), ('The Art Forger', '£40.76', 'In stock'), ('The Age of Genius: The Seventeenth Century and the Birth of the Modern Mind', '£19.73', 'In stock'), (\"The Activist's Tao Te Ching: Ancient Advice for a Modern Revolution\", '£32.24', 'In stock'), ('Spark Joy: An Illustrated Master Class on the Art of Organizing and Tidying Up', '£41.83', 'In stock'), ('Soul Reader', '£39.58', 'In stock'), ('Security', '£39.25', 'In stock'), ('Saga, Volume 6 (Saga (Collected Editions) #6)', '£25.02', 'In stock'), ('Saga, Volume 5 (Saga (Collected Editions) #5)', '£51.04', 'In stock'), ('Reskilling America: Learning to Labor in the Twenty-First Century', '£19.83', 'In stock'), ('Rat Queens, Vol. 3: Demons (Rat Queens (Collected Editions) #11-15)', '£50.40', 'In stock')]\n",
      "sleep time is 2\n",
      "{'user-agent': 'Mozilla/5.0 (Windows NT 10.0; Win64; x64) AppleWebKit/537.36 (KHTML, like Gecko) Chrome/100.0.4896.127 Safari/537.36', 'referer': 'http://books.toscrape.com'}\n",
      "[('Princess Jellyfish 2-in-1 Omnibus, Vol. 01 (Princess Jellyfish 2-in-1 Omnibus #1)', '£13.61', 'In stock'), ('Princess Between Worlds (Wide-Awake Princess #5)', '£13.34', 'In stock'), ('Pop Gun War, Volume 1: Gift', '£18.97', 'In stock'), ('Political Suicide: Missteps, Peccadilloes, Bad Calls, Backroom Hijinx, Sordid Pasts, Rotten Breaks, and Just Plain Dumb Mistakes in the Annals of American Politics', '£36.28', 'In stock'), ('Patience', '£10.16', 'In stock'), ('Outcast, Vol. 1: A Darkness Surrounds Him (Outcast #1)', '£15.44', 'In stock'), ('orange: The Complete Collection 1 (orange: The Complete Collection #1)', '£48.41', 'In stock'), ('Online Marketing for Busy Authors: A Step-By-Step Guide', '£46.35', 'In stock'), ('On a Midnight Clear', '£14.07', 'In stock'), ('Obsidian (Lux #1)', '£14.86', 'In stock'), ('My Paris Kitchen: Recipes and Stories', '£33.37', 'In stock'), ('Masks and Shadows', '£56.40', 'In stock'), ('Mama Tried: Traditional Italian Cooking for the Screwed, Crude, Vegan, and Tattooed', '£14.02', 'In stock'), ('Lumberjanes, Vol. 2: Friendship to the Max (Lumberjanes #5-8)', '£46.91', 'In stock'), ('Lumberjanes, Vol. 1: Beware the Kitten Holy (Lumberjanes #1-4)', '£45.61', 'In stock'), ('Lumberjanes Vol. 3: A Terrible Plan (Lumberjanes #9-12)', '£19.92', 'In stock'), ('Layered: Baking, Building, and Styling Spectacular Cakes', '£40.11', 'In stock'), ('Judo: Seven Steps to Black Belt (an Introductory Guide for Beginners)', '£53.90', 'In stock'), ('Join', '£35.67', 'In stock'), ('In the Country We Love: My Family Divided', '£22.00', 'In stock')]\n"
     ]
    },
    {
     "name": "stdout",
     "output_type": "stream",
     "text": [
      "sleep time is 2\n",
      "{'user-agent': 'Mozilla/5.0 (Windows NT 10.0; Win64; x64) AppleWebKit/537.36 (KHTML, like Gecko) Chrome/100.0.4896.127 Safari/537.36', 'referer': 'http://books.toscrape.com'}\n",
      "[('Immunity: How Elie Metchnikoff Changed the Course of Modern Medicine', '£57.36', 'In stock'), ('I Hate Fairyland, Vol. 1: Madly Ever After (I Hate Fairyland (Compilations) #1-5)', '£29.17', 'In stock'), ('I am a Hero Omnibus Volume 1', '£54.63', 'In stock'), ('How to Be Miserable: 40 Strategies You Already Use', '£46.03', 'In stock'), ('Her Backup Boyfriend (The Sorensen Family #1)', '£33.97', 'In stock'), ('Giant Days, Vol. 2 (Giant Days #5-8)', '£22.11', 'In stock'), ('Forever and Forever: The Courtship of Henry Longfellow and Fanny Appleton', '£29.69', 'In stock'), ('First and First (Five Boroughs #3)', '£15.97', 'In stock'), ('Fifty Shades Darker (Fifty Shades #2)', '£21.96', 'In stock'), ('Everydata: The Misinformation Hidden in the Little Data You Consume Every Day', '£54.35', 'In stock'), (\"Don't Be a Jerk: And Other Practical Advice from Dogen, Japan's Greatest Zen Master\", '£37.97', 'In stock'), ('Danganronpa Volume 1', '£51.99', 'In stock'), ('Crown of Midnight (Throne of Glass #2)', '£43.29', 'In stock'), ('Codename Baboushka, Volume 1: The Conclave of Death', '£36.72', 'In stock'), ('Camp Midnight', '£17.08', 'In stock'), ('Call the Nurse: True Stories of a Country Nurse on a Scottish Isle', '£29.14', 'In stock'), ('Burning', '£28.81', 'In stock'), ('Bossypants', '£49.46', 'In stock'), ('Bitch Planet, Vol. 1: Extraordinary Machine (Bitch Planet (Collected Editions))', '£37.92', 'In stock'), ('Avatar: The Last Airbender: Smoke and Shadow, Part 3 (Smoke and Shadow #3)', '£28.09', 'In stock')]\n",
      "sleep time is 2\n",
      "{'user-agent': 'Mozilla/5.0 (Windows NT 10.0; Win64; x64) AppleWebKit/537.36 (KHTML, like Gecko) Chrome/102.0.5005.63 Safari/537.36', 'referer': 'http://books.toscrape.com'}\n",
      "[('Algorithms to Live By: The Computer Science of Human Decisions', '£30.81', 'In stock'), ('A World of Flavor: Your Gluten Free Passport', '£42.95', 'In stock'), ('A Piece of Sky, a Grain of Rice: A Memoir in Four Meditations', '£56.76', 'In stock'), ('A Murder in Time', '£16.64', 'In stock'), ('A Flight of Arrows (The Pathfinders #2)', '£55.53', 'In stock'), ('A Fierce and Subtle Poison', '£28.13', 'In stock'), ('A Court of Thorns and Roses (A Court of Thorns and Roses #1)', '£52.37', 'In stock'), ('(Un)Qualified: How God Uses Broken People to Do Big Things', '£54.00', 'In stock'), ('You Are What You Love: The Spiritual Power of Habit', '£21.87', 'In stock'), (\"William Shakespeare's Star Wars: Verily, A New Hope (William Shakespeare's Star Wars #4)\", '£43.30', 'In stock'), ('Tuesday Nights in 1980', '£21.04', 'In stock'), ('Tracing Numbers on a Train', '£41.60', 'In stock'), ('Throne of Glass (Throne of Glass #1)', '£35.07', 'In stock'), ('Thomas Jefferson and the Tripoli Pirates: The Forgotten War That Changed American History', '£59.64', 'In stock'), ('Thirteen Reasons Why', '£52.72', 'In stock'), ('The White Cat and the Monk: A Retelling of the Poem “Pangur Bán”', '£58.08', 'In stock'), ('The Wedding Dress', '£24.12', 'In stock'), ('The Vacationers', '£42.15', 'In stock'), ('The Third Wave: An Entrepreneur’s Vision of the Future', '£12.61', 'In stock'), ('The Stranger', '£17.44', 'In stock')]\n",
      "sleep time is 2\n",
      "{'user-agent': 'Mozilla/5.0 (Windows NT 10.0; Win64; x64) AppleWebKit/537.36 (KHTML, like Gecko) Chrome/101.0.4951.67 Safari/537.36', 'referer': 'http://books.toscrape.com'}\n",
      "[('The Shadow Hero (The Shadow Hero)', '£33.14', 'In stock'), ('The Secret (The Secret #1)', '£27.37', 'In stock'), ('The Regional Office Is Under Attack!', '£51.36', 'In stock'), ('The Psychopath Test: A Journey Through the Madness Industry', '£36.00', 'In stock'), ('The Project', '£10.65', 'In stock'), ('The Power of Now: A Guide to Spiritual Enlightenment', '£43.54', 'In stock'), (\"The Omnivore's Dilemma: A Natural History of Four Meals\", '£38.21', 'In stock'), ('The Nerdy Nummies Cookbook: Sweet Treats for the Geek in All of Us', '£37.34', 'In stock'), ('The Murder of Roger Ackroyd (Hercule Poirot #4)', '£44.10', 'In stock'), ('The Mistake (Off-Campus #2)', '£43.29', 'In stock'), (\"The Matchmaker's Playbook (Wingmen Inc. #1)\", '£55.85', 'In stock'), ('The Love and Lemons Cookbook: An Apple-to-Zucchini Celebration of Impromptu Cooking', '£37.60', 'In stock'), ('The Long Shadow of Small Ghosts: Murder and Memory in an American City', '£10.97', 'In stock'), ('The Kite Runner', '£41.82', 'In stock'), ('The House by the Lake', '£36.95', 'In stock'), ('The Glittering Court (The Glittering Court #1)', '£44.28', 'In stock'), ('The Girl on the Train', '£55.02', 'In stock'), ('The Genius of Birds', '£17.24', 'In stock'), ('The Emerald Mystery', '£23.15', 'In stock'), ('The Cookies & Cups Cookbook: 125+ sweet & savory recipes reminding you to Always Eat Dessert First', '£41.25', 'In stock')]\n",
      "sleep time is 2\n",
      "{'user-agent': 'Mozilla/5.0 (Windows NT 10.0; Win64; x64) AppleWebKit/537.36 (KHTML, like Gecko) Chrome/101.0.4951.67 Safari/537.36', 'referer': 'http://books.toscrape.com'}\n",
      "[(\"The Bridge to Consciousness: I'm Writing the Bridge Between Science and Our Old and New Beliefs.\", '£32.00', 'In stock'), (\"The Artist's Way: A Spiritual Path to Higher Creativity\", '£38.49', 'In stock'), ('The Art of War', '£33.34', 'In stock'), ('The Argonauts', '£10.93', 'In stock'), ('The 10% Entrepreneur: Live Your Startup Dream Without Quitting Your Day Job', '£27.55', 'In stock'), ('Suddenly in Love (Lake Haven #1)', '£55.99', 'In stock'), ('Something More Than This', '£16.24', 'In stock'), ('Soft Apocalypse', '£26.12', 'In stock'), (\"So You've Been Publicly Shamed\", '£12.23', 'In stock'), ('Shoe Dog: A Memoir by the Creator of NIKE', '£23.99', 'In stock'), ('Shobu Samurai, Project Aryoku (#3)', '£29.06', 'In stock'), ('Secrets and Lace (Fatal Hearts #1)', '£20.27', 'In stock'), ('Scarlett Epstein Hates It Here', '£43.55', 'In stock'), ('Romero and Juliet: A Tragic Tale of Love and Zombies', '£36.94', 'In stock'), ('Redeeming Love', '£20.47', 'In stock'), ('Poses for Artists Volume 1 - Dynamic and Sitting Poses: An Essential Reference for Figure Drawing and the Human Form', '£41.06', 'In stock'), ('Poems That Make Grown Women Cry', '£14.19', 'In stock'), ('Nightingale, Sing', '£38.28', 'In stock'), ('Night Sky with Exit Wounds', '£41.05', 'In stock'), ('Mrs. Houdini', '£30.25', 'In stock')]\n",
      "sleep time is 2\n",
      "{'user-agent': 'Mozilla/5.0 (Windows NT 10.0; Win64; x64) AppleWebKit/537.36 (KHTML, like Gecko) Chrome/101.0.4951.67 Safari/537.36', 'referer': 'http://books.toscrape.com'}\n",
      "[('Modern Romance', '£28.26', 'In stock'), ('Miss Peregrine’s Home for Peculiar Children (Miss Peregrine’s Peculiar Children #1)', '£10.76', 'In stock'), ('Louisa: The Extraordinary Life of Mrs. Adams', '£16.85', 'In stock'), ('Little Red', '£13.47', 'In stock'), ('Library of Souls (Miss Peregrine’s Peculiar Children #3)', '£48.56', 'In stock'), ('Large Print Heart of the Pride', '£19.15', 'In stock'), ('I Had a Nice Time And Other Lies...: How to find love & sh*t like that', '£57.36', 'In stock'), ('Hollow City (Miss Peregrine’s Peculiar Children #2)', '£42.98', 'In stock'), ('Grumbles', '£22.16', 'In stock'), ('Full Moon over Noah’s Ark: An Odyssey to Mount Ararat and Beyond', '£49.43', 'In stock'), ('Frostbite (Vampire Academy #2)', '£29.99', 'In stock'), ('Follow You Home', '£21.36', 'In stock'), ('First Steps for New Christians (Print Edition)', '£29.00', 'In stock'), ('Finders Keepers (Bill Hodges Trilogy #2)', '£53.53', 'In stock'), ('Fables, Vol. 1: Legends in Exile (Fables #1)', '£41.62', 'In stock'), ('Eureka Trivia 6.0', '£54.59', 'In stock'), ('Drive: The Surprising Truth About What Motivates Us', '£34.95', 'In stock'), ('Done Rubbed Out (Reightman & Bailey #1)', '£37.72', 'In stock'), ('Doing It Over (Most Likely To #1)', '£35.61', 'In stock'), ('Deliciously Ella Every Day: Quick and Easy Recipes for Gluten-Free Snacks, Packed Lunches, and Simple Meals', '£42.16', 'In stock')]\n"
     ]
    }
   ],
   "source": [
    "# your code here\n",
    "\n",
    "import requests\n",
    "from bs4 import BeautifulSoup\n",
    "import time\n",
    "import random\n",
    "\n",
    "user_agents = [\"Mozilla/5.0 (Windows NT 10.0; Win64; x64) AppleWebKit/537.36 (KHTML, like Gecko) Chrome/102.0.5005.63 Safari/537.36\", \"Mozilla/5.0 (Windows NT 10.0; Win64; x64) AppleWebKit/537.36 (KHTML, like Gecko) Chrome/104.0.0.0 Safari/537.36\", \"Mozilla/5.0 (Windows NT 10.0; Win64; x64) AppleWebKit/537.36 (KHTML, like Gecko) Chrome/100.0.4896.127 Safari/537.36\", \"Mozilla/5.0 (Windows NT 10.0; Win64; x64) AppleWebKit/537.36 (KHTML, like Gecko) Chrome/101.0.4951.67 Safari/537.36\", \"Mozilla/5.0 (Windows NT 10.0; Win64; x64) AppleWebKit/537.36 (KHTML, like Gecko) Chrome/101.0.4951.54 Safari/537.36\"]\n",
    "\n",
    "class IronhackSpider:\n",
    "    def __init__(self, url_pattern, user_agents, pages_to_scrape=10, sleep_interval=-1, content_parser=None):\n",
    "        self.url_pattern = url_pattern\n",
    "        self.user_agents = user_agents\n",
    "        self.pages_to_scrape = pages_to_scrape\n",
    "        self.sleep_interval = sleep_interval\n",
    "        self.content_parser = content_parser\n",
    "        \n",
    "  \n",
    "    def scrape_url(self, url):\n",
    "        random.shuffle(user_agents)\n",
    "        headers = {'user-agent': user_agents[0], \"referer\": \"http://books.toscrape.com\"}\n",
    "        print(headers)\n",
    "        response = requests.get(url, headers = headers)\n",
    "        if response.status_code > 299:\n",
    "            result = f\"Response status is {response.status_code}. There was a problem\"\n",
    "        else:\n",
    "            result = self.content_parser(response.content)\n",
    "        self.output_results(result)\n",
    "    \n",
    "    def output_results(self, r):\n",
    "        print(r)\n",
    " \n",
    "    def kickstart(self):\n",
    "        for i in range(1, self.pages_to_scrape+1):\n",
    "            if self.sleep_interval > 0:\n",
    "                time.sleep(self.sleep_interval)\n",
    "                print(f\"sleep time is {self.sleep_interval}\")\n",
    "                self.scrape_url(self.url_pattern % i)\n",
    "            else:\n",
    "                self.scrape_url(self.url_pattern % i)\n",
    "\n",
    "\n",
    "URL_PATTERN = 'http://books.toscrape.com/catalogue/page-%s.html' # regex pattern for the urls to scrape\n",
    "PAGES_TO_SCRAPE = 10 # how many webpages to scrapge\n",
    "\n",
    "\n",
    "def books_parser(content):\n",
    "    content_soup = BeautifulSoup(content, \"lxml\")\n",
    "    book_elements = content_soup.find_all(\"article\", class_=\"product_pod\")\n",
    "    content = []\n",
    "    for book_element in book_elements:\n",
    "        title_element = book_element.find(\"h3\")\n",
    "        title = title_element.find(\"a\")[\"title\"]\n",
    "        price = book_element.find(\"p\", class_= \"price_color\").text.strip()\n",
    "        availability = book_element.find(\"p\", class_= \"instock availability\").text.strip()\n",
    "        book = (title, price, availability)\n",
    "        content.append(book) \n",
    "    return content\n",
    "               \n",
    "# Instantiate the IronhackSpider class\n",
    "my_spider = IronhackSpider(URL_PATTERN, user_agents, PAGES_TO_SCRAPE, sleep_interval = random.randint(0, 5), content_parser=books_parser)\n",
    "\n",
    "# Start scraping jobs\n",
    "my_spider.kickstart()"
   ]
  },
  {
   "cell_type": "markdown",
   "metadata": {},
   "source": [
    "# Bonus Challenge 2 - Making Asynchronous Calls\n",
    "\n",
    "Implement asynchronous calls to `IronhackSpider`. You will make requests in parallel to complete your tasks faster.\n",
    "\n",
    "In the cell below, place your entire code including the updated `IronhackSpdier` class and the code to kickstart the spider."
   ]
  },
  {
   "cell_type": "code",
   "execution_count": null,
   "metadata": {},
   "outputs": [],
   "source": [
    "# your code here"
   ]
  }
 ],
 "metadata": {
  "kernelspec": {
   "display_name": "Python 3",
   "language": "python",
   "name": "python3"
  },
  "language_info": {
   "codemirror_mode": {
    "name": "ipython",
    "version": 3
   },
   "file_extension": ".py",
   "mimetype": "text/x-python",
   "name": "python",
   "nbconvert_exporter": "python",
   "pygments_lexer": "ipython3",
   "version": "3.7.4"
  }
 },
 "nbformat": 4,
 "nbformat_minor": 2
}
